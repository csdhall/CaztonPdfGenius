{
 "cells": [
  {
   "cell_type": "code",
   "execution_count": null,
   "metadata": {},
   "outputs": [],
   "source": [
    "from PyPDF2 import PdfReader\n",
    "from langchain.embeddings.openai import OpenAIEmbeddings\n",
    "from langchain.text_splitter import CharacterTextSplitter\n",
    "from langchain.vectorstores import ElasticVectorSearch, Pinecone, Weaviate, FAISS\n",
    "import tiktoken\n",
    "# Get your API keys from openai, you will need to create an account. \n",
    "# Here is the link to get the keys: https://platform.openai.com/account/billing/overview\n",
    "import os\n",
    "from dotenv import load_dotenv\n",
    "\n",
    "# Load environment variables from the .env file\n",
    "load_dotenv(\".env\", override=True)\n",
    "\n",
    "# Access the OPENAI_API_KEY environment variable\n",
    "openai_api_key = os.environ.get(\"OPENAI_API_KEY\")\n",
    "openai_api_type = os.environ.get(\"OPENAI_API_TYPE\")\n",
    "openai_api_base = os.environ.get(\"OPENAI_API_BASE\")\n",
    "openai_api_version = os.environ.get(\"OPENAI_API_VERSION\")\n",
    "\n",
    "print(f\"Open AI key {openai_api_key}\")\n",
    "print(f\"Open AI type {openai_api_type}\")\n",
    "print(f\"Open AI base {openai_api_base}\")\n",
    "print(f\"Open AI version {openai_api_version}\")"
   ]
  },
  {
   "cell_type": "code",
   "execution_count": null,
   "metadata": {},
   "outputs": [],
   "source": [
    "# location of the pdf file/files. \n",
    "\n",
    "def get_pdf_text(pdf_docs):\n",
    "    text = \"\"\n",
    "    for pdf in pdf_docs:\n",
    "        pdf_reader = PdfReader(pdf)\n",
    "        for page in pdf_reader.pages:\n",
    "            text += page.extract_text()\n",
    "    return text\n",
    "\n",
    "raw_text=get_pdf_text(['docs/RestrictAct.pdf', 'docs/Gandhi.pdf'])\n",
    "# reader = PdfReader('docs/RestrictAct.pdf')\n",
    "\n",
    "# reader\n",
    "\n",
    "# # read data from the file and put them into a variable called raw_text\n",
    "# raw_text = ''\n",
    "# for i, page in enumerate(reader.pages):\n",
    "#     text = page.extract_text()\n",
    "#     if text:\n",
    "#         raw_text += text\n",
    "\n",
    "# # raw_text\n",
    "\n",
    "raw_text\n",
    "\n"
   ]
  },
  {
   "cell_type": "code",
   "execution_count": null,
   "metadata": {},
   "outputs": [],
   "source": [
    "# We need to split the text that we read into smaller chunks so that during information retreival we don't hit the token size limits. \n",
    "\n",
    "text_splitter = CharacterTextSplitter(        \n",
    "    separator = \"\\n\",\n",
    "    chunk_size = 1000,\n",
    "    chunk_overlap  = 200,\n",
    "    length_function = len,\n",
    ")\n",
    "texts = text_splitter.split_text(raw_text)\n",
    "\n",
    "len(texts)\n",
    "\n",
    "texts[0]\n",
    "\n"
   ]
  },
  {
   "cell_type": "code",
   "execution_count": null,
   "metadata": {},
   "outputs": [],
   "source": [
    "texts[-1]"
   ]
  },
  {
   "cell_type": "code",
   "execution_count": null,
   "metadata": {},
   "outputs": [],
   "source": [
    "# Download embeddings from OpenAI\n",
    "embeddings_model = \"CaztonEmbedAda2\"\n",
    "tokenizer = tiktoken.get_encoding(\"cl100k_base\")\n",
    "\n",
    "# add embeddings model to it and then create a vector store\n",
    "embeddings = OpenAIEmbeddings(\n",
    "    deployment = embeddings_model,\n",
    "    chunk_size = 1)\n",
    "\n",
    "\n",
    "docsearch = FAISS.from_texts(texts, embeddings)\n",
    "\n",
    "docsearch\n"
   ]
  },
  {
   "cell_type": "code",
   "execution_count": null,
   "metadata": {},
   "outputs": [],
   "source": [
    "from langchain.chains.question_answering import load_qa_chain\n",
    "from langchain.llms import OpenAI\n",
    "\n",
    "gpt3_model = \"CaztonDavinci3\"\n",
    "\n",
    "chain = load_qa_chain(OpenAI(engine=gpt3_model, temperature=0), chain_type=\"stuff\")\n",
    "\n",
    "query = \"who are the authors of the article?\"\n",
    "docs = docsearch.similarity_search(query)\n",
    "    # Run the question-answering chain\n",
    "response = chain.run(input_documents=docs, question=(query))\n",
    "\n",
    "# Print the response\n",
    "print(response)\n",
    "\n"
   ]
  },
  {
   "cell_type": "code",
   "execution_count": null,
   "metadata": {},
   "outputs": [],
   "source": [
    "# Start an infinite loop to continuously ask questions\n",
    "while True:\n",
    "    # Prompt the user to enter a question\n",
    "    query = input(\" Question (or type 'exit' to quit): \")\n",
    "    \n",
    "    # Check if the user wants to exit the loop\n",
    "    if query.lower() == 'exit':\n",
    "        break\n",
    "\n",
    "    # Perform similarity search using the query\n",
    "    docs = docsearch.similarity_search(query)\n",
    "    \n",
    "    # Run the question-answering chain\n",
    "    response = chain.run(input_documents=docs, question=(query))\n",
    "    \n",
    "    # Print the response\n",
    "    print(response)\n",
    "\n",
    "# Exit message\n",
    "print(\"Exiting the question-answering loop.\")"
   ]
  }
 ],
 "metadata": {
  "kernelspec": {
   "display_name": "Python 3",
   "language": "python",
   "name": "python3"
  },
  "language_info": {
   "codemirror_mode": {
    "name": "ipython",
    "version": 3
   },
   "file_extension": ".py",
   "mimetype": "text/x-python",
   "name": "python",
   "nbconvert_exporter": "python",
   "pygments_lexer": "ipython3",
   "version": "3.8.0"
  },
  "orig_nbformat": 4
 },
 "nbformat": 4,
 "nbformat_minor": 2
}
